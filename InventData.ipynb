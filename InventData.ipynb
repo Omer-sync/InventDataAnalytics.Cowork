{
  "nbformat": 4,
  "nbformat_minor": 0,
  "metadata": {
    "colab": {
      "provenance": [],
      "collapsed_sections": [],
      "include_colab_link": true
    },
    "kernelspec": {
      "name": "python3",
      "display_name": "Python 3"
    },
    "language_info": {
      "name": "python"
    }
  },
  "cells": [
    {
      "cell_type": "markdown",
      "metadata": {
        "id": "view-in-github",
        "colab_type": "text"
      },
      "source": [
        "<a href=\"https://colab.research.google.com/github/Omer-sync/InventDataAnalytics.Cowork/blob/main/InventData.ipynb\" target=\"_parent\"><img src=\"https://colab.research.google.com/assets/colab-badge.svg\" alt=\"Open In Colab\"/></a>"
      ]
    },
    {
      "cell_type": "markdown",
      "source": [
        "# Invent Analitics: Sales Data Analysis"
      ],
      "metadata": {
        "id": "Ch6eCMUD7rie"
      }
    },
    {
      "cell_type": "markdown",
      "source": [
        "## Importing Libraries"
      ],
      "metadata": {
        "id": "3MCFbC5b8COQ"
      }
    },
    {
      "cell_type": "code",
      "execution_count": 1,
      "metadata": {
        "id": "C1jOmeQn4GCd"
      },
      "outputs": [],
      "source": [
        "import numpy as np \n",
        "import pandas as pd "
      ]
    },
    {
      "cell_type": "markdown",
      "source": [
        "## Reading Data"
      ],
      "metadata": {
        "id": "b2qYyZ9I8N9W"
      }
    },
    {
      "cell_type": "code",
      "source": [
        "from google.colab import drive\n",
        "drive.mount('/content/drive')"
      ],
      "metadata": {
        "id": "uUGG7PBoGb-b",
        "outputId": "947a8ee1-a14e-4875-c6a9-2594d47ad997",
        "colab": {
          "base_uri": "https://localhost:8080/"
        }
      },
      "execution_count": 2,
      "outputs": [
        {
          "output_type": "stream",
          "name": "stdout",
          "text": [
            "Mounted at /content/drive\n"
          ]
        }
      ]
    },
    {
      "cell_type": "code",
      "source": [
        "\n",
        "df_train = pd.read_csv(\"/content/drive/MyDrive/Colab Notebooks/dac22-invent-analytics-project/train.csv\")\n",
        "df_test = pd.read_csv(\"/content/drive/MyDrive/Colab Notebooks/dac22-invent-analytics-project/test.csv\")\n",
        "df_holiday = pd.read_csv(\"/content/drive/MyDrive/Colab Notebooks/dac22-invent-analytics-project/holidays.csv\")\n",
        "df_product = pd.read_csv(\"/content/drive/MyDrive/Colab Notebooks/dac22-invent-analytics-project/product.csv\")"
      ],
      "metadata": {
        "id": "8Qwq6FES6Qvp"
      },
      "execution_count": 3,
      "outputs": []
    },
    {
      "cell_type": "code",
      "source": [
        "df_train_copy = df_train.copy()\n",
        "df_test_copy = df_test.copy()\n",
        "df_holiday_copy = df_holiday.copy()\n",
        "df_product_copy = df_product.copy()"
      ],
      "metadata": {
        "id": "0zezNxBa6bwJ"
      },
      "execution_count": 4,
      "outputs": []
    },
    {
      "cell_type": "markdown",
      "source": [
        "## Understanding and Cleaning Data"
      ],
      "metadata": {
        "id": "0yEnaEsO8pPq"
      }
    },
    {
      "cell_type": "code",
      "source": [
        "df_train.info()"
      ],
      "metadata": {
        "colab": {
          "base_uri": "https://localhost:8080/"
        },
        "id": "3XHfhNo49Vd8",
        "outputId": "4c9da89c-e092-4409-94ec-e085d23a039e"
      },
      "execution_count": 5,
      "outputs": [
        {
          "output_type": "stream",
          "name": "stdout",
          "text": [
            "<class 'pandas.core.frame.DataFrame'>\n",
            "RangeIndex: 405292 entries, 0 to 405291\n",
            "Data columns (total 10 columns):\n",
            " #   Column          Non-Null Count   Dtype  \n",
            "---  ------          --------------   -----  \n",
            " 0   id              405292 non-null  int64  \n",
            " 1   date            405292 non-null  object \n",
            " 2   product_id      405292 non-null  int64  \n",
            " 3   price           404730 non-null  float64\n",
            " 4   discount        405292 non-null  float64\n",
            " 5   season_type     405292 non-null  object \n",
            " 6   sales_amount    405292 non-null  float64\n",
            " 7   on_promotion    405292 non-null  int64  \n",
            " 8   promotion_type  386922 non-null  object \n",
            " 9   store_count     405292 non-null  int64  \n",
            "dtypes: float64(3), int64(4), object(3)\n",
            "memory usage: 30.9+ MB\n"
          ]
        }
      ]
    },
    {
      "cell_type": "markdown",
      "source": [
        "1. Change NaN in promotion_type to \"noPromotion\"\n"
      ],
      "metadata": {
        "id": "Sc_dAeP285U0"
      }
    },
    {
      "cell_type": "code",
      "source": [
        "df_train_copy['promotion_type'] = df_train_copy['promotion_type'].fillna(\"noPromotion\")"
      ],
      "metadata": {
        "id": "ArldDMsW6k4o"
      },
      "execution_count": 6,
      "outputs": []
    },
    {
      "cell_type": "code",
      "source": [
        "temp_df = df_train_copy[df_train_copy[\"price\"].isnull()]"
      ],
      "metadata": {
        "id": "iJl4cwdoFbnK"
      },
      "execution_count": 8,
      "outputs": []
    },
    {
      "cell_type": "code",
      "source": [
        "null_product_id_list = []\n",
        "for i in temp_df[\"product_id\"].unique():\n",
        "  null_product_id_list.append(i)"
      ],
      "metadata": {
        "id": "AauvLPaIJZ9j"
      },
      "execution_count": 9,
      "outputs": []
    },
    {
      "cell_type": "code",
      "source": [
        "for product_id in null_product_id_list:\n",
        "  temp_df = df_train_copy[df_train_copy[\"product_id\"] == product_id]\n",
        "  temp_price=temp_df[~(temp_df[\"price\"].isnull())].iloc[0].price\n",
        "  temp_discount =temp_df[~(temp_df[\"price\"].isnull())].iloc[0].discount\n",
        "  temp_original_price = temp_price / (1-temp_discount)\n"
      ],
      "metadata": {
        "id": "mwUl-SD_X4uY"
      },
      "execution_count": null,
      "outputs": []
    },
    {
      "cell_type": "code",
      "source": [
        "temp_df = df_train_copy[df_train_copy[\"product_id\"] == 486]"
      ],
      "metadata": {
        "id": "IBkppkPGKd9k"
      },
      "execution_count": 10,
      "outputs": []
    },
    {
      "cell_type": "code",
      "source": [
        "temp_price=temp_df[~(temp_df[\"price\"].isnull())].iloc[0].price\n",
        "temp_discount =temp_df[~(temp_df[\"price\"].isnull())].iloc[0].discount"
      ],
      "metadata": {
        "id": "94mNDSo_WzNM"
      },
      "execution_count": 24,
      "outputs": []
    },
    {
      "cell_type": "code",
      "source": [
        "df_train_copy"
      ],
      "metadata": {
        "colab": {
          "base_uri": "https://localhost:8080/",
          "height": 879
        },
        "id": "-XalZPEjXlUz",
        "outputId": "0996a552-2b1a-4909-c0e2-fc031a4020fa"
      },
      "execution_count": 35,
      "outputs": [
        {
          "output_type": "execute_result",
          "data": {
            "text/plain": [
              "            id        date  product_id   price  discount    season_type  \\\n",
              "0            1  2018-08-06          21  221.47       0.0  Autumn-Winter   \n",
              "1            2  2018-08-13          21  221.47       0.0  Autumn-Winter   \n",
              "2            3  2018-08-20          21  221.47       0.0  Autumn-Winter   \n",
              "3            4  2018-08-27          21  221.47       0.0  Autumn-Winter   \n",
              "4            5  2018-09-03          21  221.47       0.0  Autumn-Winter   \n",
              "...        ...         ...         ...     ...       ...            ...   \n",
              "405287  405288  2020-10-26        7888   61.57       0.0  Summer-Spring   \n",
              "405288  405289  2020-11-02        7888   61.57       0.0  Summer-Spring   \n",
              "405289  405290  2020-11-09        7888   61.57       0.0  Summer-Spring   \n",
              "405290  405291  2020-11-16        7888   61.57       0.0  Summer-Spring   \n",
              "405291  405292  2020-11-23        7888   61.57       0.0  Summer-Spring   \n",
              "\n",
              "        sales_amount  on_promotion         promotion_type  store_count  \n",
              "0               83.0             1           Main Promo 3           85  \n",
              "1              100.0             1           Main Promo 3           85  \n",
              "2              127.0             1           Main Promo 3           85  \n",
              "3               89.0             1           Main Promo 3           84  \n",
              "4              124.0             1           Main Promo 3           85  \n",
              "...              ...           ...                    ...          ...  \n",
              "405287           0.0             1  Season Middle Promo 1           17  \n",
              "405288           0.0             1  Season Middle Promo 1           15  \n",
              "405289           0.0             1  Season Middle Promo 1           13  \n",
              "405290           0.0             1  Season Middle Promo 1           10  \n",
              "405291           0.0             1  Season Middle Promo 1            9  \n",
              "\n",
              "[405292 rows x 10 columns]"
            ],
            "text/html": [
              "\n",
              "  <div id=\"df-692f55f1-5550-41a0-becc-a7ae9de369b8\">\n",
              "    <div class=\"colab-df-container\">\n",
              "      <div>\n",
              "<style scoped>\n",
              "    .dataframe tbody tr th:only-of-type {\n",
              "        vertical-align: middle;\n",
              "    }\n",
              "\n",
              "    .dataframe tbody tr th {\n",
              "        vertical-align: top;\n",
              "    }\n",
              "\n",
              "    .dataframe thead th {\n",
              "        text-align: right;\n",
              "    }\n",
              "</style>\n",
              "<table border=\"1\" class=\"dataframe\">\n",
              "  <thead>\n",
              "    <tr style=\"text-align: right;\">\n",
              "      <th></th>\n",
              "      <th>id</th>\n",
              "      <th>date</th>\n",
              "      <th>product_id</th>\n",
              "      <th>price</th>\n",
              "      <th>discount</th>\n",
              "      <th>season_type</th>\n",
              "      <th>sales_amount</th>\n",
              "      <th>on_promotion</th>\n",
              "      <th>promotion_type</th>\n",
              "      <th>store_count</th>\n",
              "    </tr>\n",
              "  </thead>\n",
              "  <tbody>\n",
              "    <tr>\n",
              "      <th>0</th>\n",
              "      <td>1</td>\n",
              "      <td>2018-08-06</td>\n",
              "      <td>21</td>\n",
              "      <td>221.47</td>\n",
              "      <td>0.0</td>\n",
              "      <td>Autumn-Winter</td>\n",
              "      <td>83.0</td>\n",
              "      <td>1</td>\n",
              "      <td>Main Promo 3</td>\n",
              "      <td>85</td>\n",
              "    </tr>\n",
              "    <tr>\n",
              "      <th>1</th>\n",
              "      <td>2</td>\n",
              "      <td>2018-08-13</td>\n",
              "      <td>21</td>\n",
              "      <td>221.47</td>\n",
              "      <td>0.0</td>\n",
              "      <td>Autumn-Winter</td>\n",
              "      <td>100.0</td>\n",
              "      <td>1</td>\n",
              "      <td>Main Promo 3</td>\n",
              "      <td>85</td>\n",
              "    </tr>\n",
              "    <tr>\n",
              "      <th>2</th>\n",
              "      <td>3</td>\n",
              "      <td>2018-08-20</td>\n",
              "      <td>21</td>\n",
              "      <td>221.47</td>\n",
              "      <td>0.0</td>\n",
              "      <td>Autumn-Winter</td>\n",
              "      <td>127.0</td>\n",
              "      <td>1</td>\n",
              "      <td>Main Promo 3</td>\n",
              "      <td>85</td>\n",
              "    </tr>\n",
              "    <tr>\n",
              "      <th>3</th>\n",
              "      <td>4</td>\n",
              "      <td>2018-08-27</td>\n",
              "      <td>21</td>\n",
              "      <td>221.47</td>\n",
              "      <td>0.0</td>\n",
              "      <td>Autumn-Winter</td>\n",
              "      <td>89.0</td>\n",
              "      <td>1</td>\n",
              "      <td>Main Promo 3</td>\n",
              "      <td>84</td>\n",
              "    </tr>\n",
              "    <tr>\n",
              "      <th>4</th>\n",
              "      <td>5</td>\n",
              "      <td>2018-09-03</td>\n",
              "      <td>21</td>\n",
              "      <td>221.47</td>\n",
              "      <td>0.0</td>\n",
              "      <td>Autumn-Winter</td>\n",
              "      <td>124.0</td>\n",
              "      <td>1</td>\n",
              "      <td>Main Promo 3</td>\n",
              "      <td>85</td>\n",
              "    </tr>\n",
              "    <tr>\n",
              "      <th>...</th>\n",
              "      <td>...</td>\n",
              "      <td>...</td>\n",
              "      <td>...</td>\n",
              "      <td>...</td>\n",
              "      <td>...</td>\n",
              "      <td>...</td>\n",
              "      <td>...</td>\n",
              "      <td>...</td>\n",
              "      <td>...</td>\n",
              "      <td>...</td>\n",
              "    </tr>\n",
              "    <tr>\n",
              "      <th>405287</th>\n",
              "      <td>405288</td>\n",
              "      <td>2020-10-26</td>\n",
              "      <td>7888</td>\n",
              "      <td>61.57</td>\n",
              "      <td>0.0</td>\n",
              "      <td>Summer-Spring</td>\n",
              "      <td>0.0</td>\n",
              "      <td>1</td>\n",
              "      <td>Season Middle Promo 1</td>\n",
              "      <td>17</td>\n",
              "    </tr>\n",
              "    <tr>\n",
              "      <th>405288</th>\n",
              "      <td>405289</td>\n",
              "      <td>2020-11-02</td>\n",
              "      <td>7888</td>\n",
              "      <td>61.57</td>\n",
              "      <td>0.0</td>\n",
              "      <td>Summer-Spring</td>\n",
              "      <td>0.0</td>\n",
              "      <td>1</td>\n",
              "      <td>Season Middle Promo 1</td>\n",
              "      <td>15</td>\n",
              "    </tr>\n",
              "    <tr>\n",
              "      <th>405289</th>\n",
              "      <td>405290</td>\n",
              "      <td>2020-11-09</td>\n",
              "      <td>7888</td>\n",
              "      <td>61.57</td>\n",
              "      <td>0.0</td>\n",
              "      <td>Summer-Spring</td>\n",
              "      <td>0.0</td>\n",
              "      <td>1</td>\n",
              "      <td>Season Middle Promo 1</td>\n",
              "      <td>13</td>\n",
              "    </tr>\n",
              "    <tr>\n",
              "      <th>405290</th>\n",
              "      <td>405291</td>\n",
              "      <td>2020-11-16</td>\n",
              "      <td>7888</td>\n",
              "      <td>61.57</td>\n",
              "      <td>0.0</td>\n",
              "      <td>Summer-Spring</td>\n",
              "      <td>0.0</td>\n",
              "      <td>1</td>\n",
              "      <td>Season Middle Promo 1</td>\n",
              "      <td>10</td>\n",
              "    </tr>\n",
              "    <tr>\n",
              "      <th>405291</th>\n",
              "      <td>405292</td>\n",
              "      <td>2020-11-23</td>\n",
              "      <td>7888</td>\n",
              "      <td>61.57</td>\n",
              "      <td>0.0</td>\n",
              "      <td>Summer-Spring</td>\n",
              "      <td>0.0</td>\n",
              "      <td>1</td>\n",
              "      <td>Season Middle Promo 1</td>\n",
              "      <td>9</td>\n",
              "    </tr>\n",
              "  </tbody>\n",
              "</table>\n",
              "<p>405292 rows × 10 columns</p>\n",
              "</div>\n",
              "      <button class=\"colab-df-convert\" onclick=\"convertToInteractive('df-692f55f1-5550-41a0-becc-a7ae9de369b8')\"\n",
              "              title=\"Convert this dataframe to an interactive table.\"\n",
              "              style=\"display:none;\">\n",
              "        \n",
              "  <svg xmlns=\"http://www.w3.org/2000/svg\" height=\"24px\"viewBox=\"0 0 24 24\"\n",
              "       width=\"24px\">\n",
              "    <path d=\"M0 0h24v24H0V0z\" fill=\"none\"/>\n",
              "    <path d=\"M18.56 5.44l.94 2.06.94-2.06 2.06-.94-2.06-.94-.94-2.06-.94 2.06-2.06.94zm-11 1L8.5 8.5l.94-2.06 2.06-.94-2.06-.94L8.5 2.5l-.94 2.06-2.06.94zm10 10l.94 2.06.94-2.06 2.06-.94-2.06-.94-.94-2.06-.94 2.06-2.06.94z\"/><path d=\"M17.41 7.96l-1.37-1.37c-.4-.4-.92-.59-1.43-.59-.52 0-1.04.2-1.43.59L10.3 9.45l-7.72 7.72c-.78.78-.78 2.05 0 2.83L4 21.41c.39.39.9.59 1.41.59.51 0 1.02-.2 1.41-.59l7.78-7.78 2.81-2.81c.8-.78.8-2.07 0-2.86zM5.41 20L4 18.59l7.72-7.72 1.47 1.35L5.41 20z\"/>\n",
              "  </svg>\n",
              "      </button>\n",
              "      \n",
              "  <style>\n",
              "    .colab-df-container {\n",
              "      display:flex;\n",
              "      flex-wrap:wrap;\n",
              "      gap: 12px;\n",
              "    }\n",
              "\n",
              "    .colab-df-convert {\n",
              "      background-color: #E8F0FE;\n",
              "      border: none;\n",
              "      border-radius: 50%;\n",
              "      cursor: pointer;\n",
              "      display: none;\n",
              "      fill: #1967D2;\n",
              "      height: 32px;\n",
              "      padding: 0 0 0 0;\n",
              "      width: 32px;\n",
              "    }\n",
              "\n",
              "    .colab-df-convert:hover {\n",
              "      background-color: #E2EBFA;\n",
              "      box-shadow: 0px 1px 2px rgba(60, 64, 67, 0.3), 0px 1px 3px 1px rgba(60, 64, 67, 0.15);\n",
              "      fill: #174EA6;\n",
              "    }\n",
              "\n",
              "    [theme=dark] .colab-df-convert {\n",
              "      background-color: #3B4455;\n",
              "      fill: #D2E3FC;\n",
              "    }\n",
              "\n",
              "    [theme=dark] .colab-df-convert:hover {\n",
              "      background-color: #434B5C;\n",
              "      box-shadow: 0px 1px 3px 1px rgba(0, 0, 0, 0.15);\n",
              "      filter: drop-shadow(0px 1px 2px rgba(0, 0, 0, 0.3));\n",
              "      fill: #FFFFFF;\n",
              "    }\n",
              "  </style>\n",
              "\n",
              "      <script>\n",
              "        const buttonEl =\n",
              "          document.querySelector('#df-692f55f1-5550-41a0-becc-a7ae9de369b8 button.colab-df-convert');\n",
              "        buttonEl.style.display =\n",
              "          google.colab.kernel.accessAllowed ? 'block' : 'none';\n",
              "\n",
              "        async function convertToInteractive(key) {\n",
              "          const element = document.querySelector('#df-692f55f1-5550-41a0-becc-a7ae9de369b8');\n",
              "          const dataTable =\n",
              "            await google.colab.kernel.invokeFunction('convertToInteractive',\n",
              "                                                     [key], {});\n",
              "          if (!dataTable) return;\n",
              "\n",
              "          const docLinkHtml = 'Like what you see? Visit the ' +\n",
              "            '<a target=\"_blank\" href=https://colab.research.google.com/notebooks/data_table.ipynb>data table notebook</a>'\n",
              "            + ' to learn more about interactive tables.';\n",
              "          element.innerHTML = '';\n",
              "          dataTable['output_type'] = 'display_data';\n",
              "          await google.colab.output.renderOutput(dataTable, element);\n",
              "          const docLink = document.createElement('div');\n",
              "          docLink.innerHTML = docLinkHtml;\n",
              "          element.appendChild(docLink);\n",
              "        }\n",
              "      </script>\n",
              "    </div>\n",
              "  </div>\n",
              "  "
            ]
          },
          "metadata": {},
          "execution_count": 35
        },
        {
          "output_type": "stream",
          "name": "stdout",
          "text": [
            "Warning: total number of rows (405292) exceeds max_rows (20000). Limiting to first (20000) rows.\n"
          ]
        }
      ]
    },
    {
      "cell_type": "code",
      "source": [],
      "metadata": {
        "id": "swfirdJkaa78"
      },
      "execution_count": null,
      "outputs": []
    }
  ]
}