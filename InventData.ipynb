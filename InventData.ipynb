{
  "nbformat": 4,
  "nbformat_minor": 0,
  "metadata": {
    "colab": {
      "provenance": [],
      "collapsed_sections": [],
      "include_colab_link": true
    },
    "kernelspec": {
      "name": "python3",
      "display_name": "Python 3"
    },
    "language_info": {
      "name": "python"
    }
  },
  "cells": [
    {
      "cell_type": "markdown",
      "metadata": {
        "id": "view-in-github",
        "colab_type": "text"
      },
      "source": [
        "<a href=\"https://colab.research.google.com/github/Omer-sync/InventDataAnalytics.Cowork/blob/main/InventData.ipynb\" target=\"_parent\"><img src=\"https://colab.research.google.com/assets/colab-badge.svg\" alt=\"Open In Colab\"/></a>"
      ]
    },
    {
      "cell_type": "markdown",
      "source": [
        "# Invent Analitics: Sales Data Analysis"
      ],
      "metadata": {
        "id": "Ch6eCMUD7rie"
      }
    },
    {
      "cell_type": "markdown",
      "source": [
        "## Importing Libraries"
      ],
      "metadata": {
        "id": "3MCFbC5b8COQ"
      }
    },
    {
      "cell_type": "code",
      "execution_count": null,
      "metadata": {
        "id": "C1jOmeQn4GCd"
      },
      "outputs": [],
      "source": [
        "import numpy as np \n",
        "import pandas as pd "
      ]
    },
    {
      "cell_type": "markdown",
      "source": [
        "## Reading Data"
      ],
      "metadata": {
        "id": "b2qYyZ9I8N9W"
      }
    },
    {
      "cell_type": "code",
      "source": [
        "from google.colab import drive\n",
        "drive.mount('/content/drive')"
      ],
      "metadata": {
        "id": "uUGG7PBoGb-b",
        "outputId": "947a8ee1-a14e-4875-c6a9-2594d47ad997",
        "colab": {
          "base_uri": "https://localhost:8080/"
        }
      },
      "execution_count": null,
      "outputs": [
        {
          "output_type": "stream",
          "name": "stdout",
          "text": [
            "Mounted at /content/drive\n"
          ]
        }
      ]
    },
    {
      "cell_type": "code",
      "source": [
        "\n",
        "df_train = pd.read_csv(\"/content/drive/MyDrive/Colab Notebooks/dac22-invent-analytics-project/train.csv\")\n",
        "df_test = pd.read_csv(\"/content/drive/MyDrive/Colab Notebooks/dac22-invent-analytics-project/test.csv\")\n",
        "df_holiday = pd.read_csv(\"/content/drive/MyDrive/Colab Notebooks/dac22-invent-analytics-project/holidays.csv\")\n",
        "df_product = pd.read_csv(\"/content/drive/MyDrive/Colab Notebooks/dac22-invent-analytics-project/product.csv\")"
      ],
      "metadata": {
        "id": "8Qwq6FES6Qvp"
      },
      "execution_count": null,
      "outputs": []
    },
    {
      "cell_type": "code",
      "source": [
        "df_train_copy = df_train.copy()\n",
        "df_test_copy = df_test.copy()\n",
        "df_holiday_copy = df_holiday.copy()\n",
        "df_product_copy = df_product.copy()"
      ],
      "metadata": {
        "id": "0zezNxBa6bwJ"
      },
      "execution_count": null,
      "outputs": []
    },
    {
      "cell_type": "markdown",
      "source": [
        "## Understanding and Cleaning Data"
      ],
      "metadata": {
        "id": "0yEnaEsO8pPq"
      }
    },
    {
      "cell_type": "code",
      "source": [
        "df_train.info()"
      ],
      "metadata": {
        "colab": {
          "base_uri": "https://localhost:8080/"
        },
        "id": "3XHfhNo49Vd8",
        "outputId": "4c9da89c-e092-4409-94ec-e085d23a039e"
      },
      "execution_count": null,
      "outputs": [
        {
          "output_type": "stream",
          "name": "stdout",
          "text": [
            "<class 'pandas.core.frame.DataFrame'>\n",
            "RangeIndex: 405292 entries, 0 to 405291\n",
            "Data columns (total 10 columns):\n",
            " #   Column          Non-Null Count   Dtype  \n",
            "---  ------          --------------   -----  \n",
            " 0   id              405292 non-null  int64  \n",
            " 1   date            405292 non-null  object \n",
            " 2   product_id      405292 non-null  int64  \n",
            " 3   price           404730 non-null  float64\n",
            " 4   discount        405292 non-null  float64\n",
            " 5   season_type     405292 non-null  object \n",
            " 6   sales_amount    405292 non-null  float64\n",
            " 7   on_promotion    405292 non-null  int64  \n",
            " 8   promotion_type  386922 non-null  object \n",
            " 9   store_count     405292 non-null  int64  \n",
            "dtypes: float64(3), int64(4), object(3)\n",
            "memory usage: 30.9+ MB\n"
          ]
        }
      ]
    },
    {
      "cell_type": "markdown",
      "source": [
        "1. Change NaN in promotion_type to \"noPromotion\"\n"
      ],
      "metadata": {
        "id": "Sc_dAeP285U0"
      }
    },
    {
      "cell_type": "code",
      "source": [
        "df_train_copy['promotion_type'] = df_train_copy['promotion_type'].fillna(\"noPromotion\")"
      ],
      "metadata": {
        "id": "ArldDMsW6k4o"
      },
      "execution_count": null,
      "outputs": []
    },
    {
      "cell_type": "code",
      "source": [
        "#df_train_copy[]"
      ],
      "metadata": {
        "colab": {
          "base_uri": "https://localhost:8080/",
          "height": 130
        },
        "id": "fZzTI_6w7ZLw",
        "outputId": "dec64724-01c3-42f2-a04a-a6f23fb4d73c"
      },
      "execution_count": null,
      "outputs": [
        {
          "output_type": "error",
          "ename": "SyntaxError",
          "evalue": "ignored",
          "traceback": [
            "\u001b[0;36m  File \u001b[0;32m\"<ipython-input-7-3aa08a0793b0>\"\u001b[0;36m, line \u001b[0;32m1\u001b[0m\n\u001b[0;31m    df_train_copy[]\u001b[0m\n\u001b[0m                  ^\u001b[0m\n\u001b[0;31mSyntaxError\u001b[0m\u001b[0;31m:\u001b[0m invalid syntax\n"
          ]
        }
      ]
    },
    {
      "cell_type": "code",
      "source": [
        "temp_df = df_train_copy[df_train_copy[\"price\"].isnull()]"
      ],
      "metadata": {
        "id": "iJl4cwdoFbnK"
      },
      "execution_count": null,
      "outputs": []
    },
    {
      "cell_type": "code",
      "source": [
        "null_product_id_list = []\n",
        "for i in temp_df[\"product_id\"].unique():\n",
        "  null_product_id_list.append(i)"
      ],
      "metadata": {
        "id": "AauvLPaIJZ9j"
      },
      "execution_count": null,
      "outputs": []
    },
    {
      "cell_type": "code",
      "source": [
        "temp_df = df_train_copy[df_train_copy[\"product_id\"] == 486]"
      ],
      "metadata": {
        "id": "IBkppkPGKd9k"
      },
      "execution_count": null,
      "outputs": []
    },
    {
      "cell_type": "code",
      "source": [
        "np.isnan(temp_df.iloc[0].price)"
      ],
      "metadata": {
        "id": "WOMZolfjMY-w",
        "outputId": "c38762a9-5498-40a7-f7ca-d841e1e9cd88",
        "colab": {
          "base_uri": "https://localhost:8080/"
        }
      },
      "execution_count": null,
      "outputs": [
        {
          "output_type": "execute_result",
          "data": {
            "text/plain": [
              "True"
            ]
          },
          "metadata": {},
          "execution_count": 11
        }
      ]
    },
    {
      "cell_type": "code",
      "source": [
        "price_amount = 0\n",
        "temp_\n",
        "for row in range(len(temp_df)):\n",
        "\n",
        "  if not np.isnan(temp_df.iloc[row].price):\n",
        "    if temp_df.iloc[row].discount == 0.0:\n",
        "\n"
      ],
      "metadata": {
        "id": "oJM9xLoONOjF"
      },
      "execution_count": null,
      "outputs": []
    },
    {
      "cell_type": "code",
      "source": [
        "print(\"ben buseee\")"
      ],
      "metadata": {
        "colab": {
          "base_uri": "https://localhost:8080/"
        },
        "id": "bxQkkeDPSzPs",
        "outputId": "226f3602-dbb1-4098-924b-29f2f7ef17bd"
      },
      "execution_count": 1,
      "outputs": [
        {
          "output_type": "stream",
          "name": "stdout",
          "text": [
            "ben buseee\n"
          ]
        }
      ]
    },
    {
      "cell_type": "code",
      "source": [],
      "metadata": {
        "id": "j9e9so3YS1CH"
      },
      "execution_count": null,
      "outputs": []
    }
  ]
}